{
 "cells": [
  {
   "cell_type": "code",
   "execution_count": 1,
   "id": "e9870efd",
   "metadata": {
    "execution": {
     "iopub.execute_input": "2024-05-07T19:00:07.867474Z",
     "iopub.status.busy": "2024-05-07T19:00:07.866942Z",
     "iopub.status.idle": "2024-05-07T19:00:11.345757Z",
     "shell.execute_reply": "2024-05-07T19:00:11.344318Z"
    },
    "papermill": {
     "duration": 3.491415,
     "end_time": "2024-05-07T19:00:11.348910",
     "exception": false,
     "start_time": "2024-05-07T19:00:07.857495",
     "status": "completed"
    },
    "tags": []
   },
   "outputs": [],
   "source": [
    "import numpy as np\n",
    "import pandas as pd\n",
    "import matplotlib.pyplot as plt\n",
    "from sklearn.model_selection import train_test_split,GridSearchCV\n",
    "from sklearn.metrics import classification_report\n",
    "import seaborn as sns"
   ]
  },
  {
   "cell_type": "code",
   "execution_count": 2,
   "id": "a0803248",
   "metadata": {
    "execution": {
     "iopub.execute_input": "2024-05-07T19:00:11.365554Z",
     "iopub.status.busy": "2024-05-07T19:00:11.364983Z",
     "iopub.status.idle": "2024-05-07T19:00:11.417532Z",
     "shell.execute_reply": "2024-05-07T19:00:11.416448Z"
    },
    "papermill": {
     "duration": 0.063884,
     "end_time": "2024-05-07T19:00:11.420324",
     "exception": false,
     "start_time": "2024-05-07T19:00:11.356440",
     "status": "completed"
    },
    "tags": []
   },
   "outputs": [
    {
     "name": "stdout",
     "output_type": "stream",
     "text": [
      "/kaggle/input/red-wine-quality-cortez-et-al-2009/winequality-red.csv\n"
     ]
    }
   ],
   "source": [
    "import os\n",
    "for dirname, _, filenames in os.walk('/kaggle/input'):\n",
    "    for filename in filenames:\n",
    "        print(os.path.join(dirname, filename))\n",
    "\n",
    "  \n",
    "# data (as pandas dataframes) \n",
    "X = pd.read_csv('/kaggle/input/red-wine-quality-cortez-et-al-2009/winequality-red.csv')\n",
    "y =pd.DataFrame(X['quality'],columns=['quality'])\n",
    "X=X.drop(['quality'],axis=1)\n",
    "# metadata \n",
    "\n"
   ]
  },
  {
   "cell_type": "code",
   "execution_count": 3,
   "id": "dd831a8b",
   "metadata": {
    "execution": {
     "iopub.execute_input": "2024-05-07T19:00:11.439119Z",
     "iopub.status.busy": "2024-05-07T19:00:11.438712Z",
     "iopub.status.idle": "2024-05-07T19:00:11.456802Z",
     "shell.execute_reply": "2024-05-07T19:00:11.454997Z"
    },
    "papermill": {
     "duration": 0.030137,
     "end_time": "2024-05-07T19:00:11.459776",
     "exception": false,
     "start_time": "2024-05-07T19:00:11.429639",
     "status": "completed"
    },
    "tags": []
   },
   "outputs": [
    {
     "name": "stdout",
     "output_type": "stream",
     "text": [
      "   fixed acidity  volatile acidity  citric acid  residual sugar  chlorides  \\\n",
      "0            7.4              0.70         0.00             1.9      0.076   \n",
      "1            7.8              0.88         0.00             2.6      0.098   \n",
      "2            7.8              0.76         0.04             2.3      0.092   \n",
      "3           11.2              0.28         0.56             1.9      0.075   \n",
      "4            7.4              0.70         0.00             1.9      0.076   \n",
      "\n",
      "   free sulfur dioxide  total sulfur dioxide  density    pH  sulphates  \\\n",
      "0                 11.0                  34.0   0.9978  3.51       0.56   \n",
      "1                 25.0                  67.0   0.9968  3.20       0.68   \n",
      "2                 15.0                  54.0   0.9970  3.26       0.65   \n",
      "3                 17.0                  60.0   0.9980  3.16       0.58   \n",
      "4                 11.0                  34.0   0.9978  3.51       0.56   \n",
      "\n",
      "   alcohol  \n",
      "0      9.4  \n",
      "1      9.8  \n",
      "2      9.8  \n",
      "3      9.8  \n",
      "4      9.4  \n"
     ]
    }
   ],
   "source": [
    "print(X.head())\n"
   ]
  },
  {
   "cell_type": "code",
   "execution_count": 4,
   "id": "8314e7d2",
   "metadata": {
    "execution": {
     "iopub.execute_input": "2024-05-07T19:00:11.477349Z",
     "iopub.status.busy": "2024-05-07T19:00:11.476881Z",
     "iopub.status.idle": "2024-05-07T19:00:11.498322Z",
     "shell.execute_reply": "2024-05-07T19:00:11.496770Z"
    },
    "papermill": {
     "duration": 0.03322,
     "end_time": "2024-05-07T19:00:11.501198",
     "exception": false,
     "start_time": "2024-05-07T19:00:11.467978",
     "status": "completed"
    },
    "tags": []
   },
   "outputs": [
    {
     "data": {
      "text/plain": [
       "fixed acidity           0.124052\n",
       "volatile acidity       -0.390558\n",
       "citric acid             0.226373\n",
       "residual sugar          0.013732\n",
       "chlorides              -0.128907\n",
       "free sulfur dioxide    -0.050656\n",
       "total sulfur dioxide   -0.185100\n",
       "density                -0.174919\n",
       "pH                     -0.057731\n",
       "sulphates               0.251397\n",
       "alcohol                 0.476166\n",
       "dtype: float64"
      ]
     },
     "execution_count": 4,
     "metadata": {},
     "output_type": "execute_result"
    }
   ],
   "source": [
    "X.corrwith(y['quality'])"
   ]
  },
  {
   "cell_type": "markdown",
   "id": "a8ed485c",
   "metadata": {
    "papermill": {
     "duration": 0.007828,
     "end_time": "2024-05-07T19:00:11.516739",
     "exception": false,
     "start_time": "2024-05-07T19:00:11.508911",
     "status": "completed"
    },
    "tags": []
   },
   "source": [
    "There are some features that are npt related to quality of the wine->\n",
    "* ph\n",
    "* sugar\n",
    "* free sulphur dioxide"
   ]
  },
  {
   "cell_type": "code",
   "execution_count": 5,
   "id": "cbdfe5ef",
   "metadata": {
    "execution": {
     "iopub.execute_input": "2024-05-07T19:00:11.533831Z",
     "iopub.status.busy": "2024-05-07T19:00:11.533419Z",
     "iopub.status.idle": "2024-05-07T19:00:12.872895Z",
     "shell.execute_reply": "2024-05-07T19:00:12.871633Z"
    },
    "papermill": {
     "duration": 1.351211,
     "end_time": "2024-05-07T19:00:12.875704",
     "exception": false,
     "start_time": "2024-05-07T19:00:11.524493",
     "status": "completed"
    },
    "tags": []
   },
   "outputs": [
    {
     "name": "stderr",
     "output_type": "stream",
     "text": [
      "/opt/conda/lib/python3.10/site-packages/seaborn/_oldcore.py:1119: FutureWarning: use_inf_as_na option is deprecated and will be removed in a future version. Convert inf values to NaN before operating instead.\n",
      "  with pd.option_context('mode.use_inf_as_na', True):\n",
      "/opt/conda/lib/python3.10/site-packages/seaborn/_oldcore.py:1119: FutureWarning: use_inf_as_na option is deprecated and will be removed in a future version. Convert inf values to NaN before operating instead.\n",
      "  with pd.option_context('mode.use_inf_as_na', True):\n",
      "/opt/conda/lib/python3.10/site-packages/seaborn/_oldcore.py:1119: FutureWarning: use_inf_as_na option is deprecated and will be removed in a future version. Convert inf values to NaN before operating instead.\n",
      "  with pd.option_context('mode.use_inf_as_na', True):\n",
      "/opt/conda/lib/python3.10/site-packages/seaborn/_oldcore.py:1119: FutureWarning: use_inf_as_na option is deprecated and will be removed in a future version. Convert inf values to NaN before operating instead.\n",
      "  with pd.option_context('mode.use_inf_as_na', True):\n",
      "/opt/conda/lib/python3.10/site-packages/seaborn/_oldcore.py:1119: FutureWarning: use_inf_as_na option is deprecated and will be removed in a future version. Convert inf values to NaN before operating instead.\n",
      "  with pd.option_context('mode.use_inf_as_na', True):\n",
      "/opt/conda/lib/python3.10/site-packages/seaborn/_oldcore.py:1119: FutureWarning: use_inf_as_na option is deprecated and will be removed in a future version. Convert inf values to NaN before operating instead.\n",
      "  with pd.option_context('mode.use_inf_as_na', True):\n",
      "/opt/conda/lib/python3.10/site-packages/seaborn/_oldcore.py:1119: FutureWarning: use_inf_as_na option is deprecated and will be removed in a future version. Convert inf values to NaN before operating instead.\n",
      "  with pd.option_context('mode.use_inf_as_na', True):\n",
      "/opt/conda/lib/python3.10/site-packages/seaborn/_oldcore.py:1119: FutureWarning: use_inf_as_na option is deprecated and will be removed in a future version. Convert inf values to NaN before operating instead.\n",
      "  with pd.option_context('mode.use_inf_as_na', True):\n"
     ]
    },
    {
     "data": {
      "image/png": "[encoded data removed]",
      "text/plain": [
       "<Figure size 2000x700 with 1 Axes>"
      ]
     },
     "metadata": {},
     "output_type": "display_data"
    }
   ],
   "source": [
    "plt.figure(figsize=(20,7))\n",
    "sns.lineplot(x=y['quality'],y=X['alcohol'],label='alcohol')\n",
    "sns.lineplot(x=y['quality'],y=X['chlorides'],label='chlorides')\n",
    "sns.lineplot(x=y['quality'],y=X['volatile acidity'],label='volatile acidity')\n",
    "sns.lineplot(x=y['quality'],y=X['density'],label='densiy')\n",
    "\n",
    "plt.legend()\n",
    "plt.show()"
   ]
  },
  {
   "cell_type": "code",
   "execution_count": 6,
   "id": "9945dc83",
   "metadata": {
    "execution": {
     "iopub.execute_input": "2024-05-07T19:00:12.897089Z",
     "iopub.status.busy": "2024-05-07T19:00:12.896385Z",
     "iopub.status.idle": "2024-05-07T19:00:12.908945Z",
     "shell.execute_reply": "2024-05-07T19:00:12.907436Z"
    },
    "papermill": {
     "duration": 0.026814,
     "end_time": "2024-05-07T19:00:12.911583",
     "exception": false,
     "start_time": "2024-05-07T19:00:12.884769",
     "status": "completed"
    },
    "tags": []
   },
   "outputs": [
    {
     "data": {
      "text/plain": [
       "quality\n",
       "5          681\n",
       "6          638\n",
       "7          199\n",
       "4           53\n",
       "8           18\n",
       "3           10\n",
       "Name: count, dtype: int64"
      ]
     },
     "execution_count": 6,
     "metadata": {},
     "output_type": "execute_result"
    }
   ],
   "source": [
    "np.unique(y)\n",
    "y.value_counts()"
   ]
  },
  {
   "cell_type": "code",
   "execution_count": 7,
   "id": "9d9e4cb1",
   "metadata": {
    "execution": {
     "iopub.execute_input": "2024-05-07T19:00:12.933087Z",
     "iopub.status.busy": "2024-05-07T19:00:12.932371Z",
     "iopub.status.idle": "2024-05-07T19:00:12.986613Z",
     "shell.execute_reply": "2024-05-07T19:00:12.983415Z"
    },
    "papermill": {
     "duration": 0.069751,
     "end_time": "2024-05-07T19:00:12.990550",
     "exception": false,
     "start_time": "2024-05-07T19:00:12.920799",
     "status": "completed"
    },
    "tags": []
   },
   "outputs": [
    {
     "data": {
      "text/html": [
       "<div>\n",
       "<style scoped>\n",
       "    .dataframe tbody tr th:only-of-type {\n",
       "        vertical-align: middle;\n",
       "    }\n",
       "\n",
       "    .dataframe tbody tr th {\n",
       "        vertical-align: top;\n",
       "    }\n",
       "\n",
       "    .dataframe thead th {\n",
       "        text-align: right;\n",
       "    }\n",
       "</style>\n",
       "<table border=\"1\" class=\"dataframe\">\n",
       "  <thead>\n",
       "    <tr style=\"text-align: right;\">\n",
       "      <th></th>\n",
       "      <th>fixed acidity</th>\n",
       "      <th>volatile acidity</th>\n",
       "      <th>citric acid</th>\n",
       "      <th>residual sugar</th>\n",
       "      <th>chlorides</th>\n",
       "      <th>free sulfur dioxide</th>\n",
       "      <th>total sulfur dioxide</th>\n",
       "      <th>density</th>\n",
       "      <th>pH</th>\n",
       "      <th>sulphates</th>\n",
       "      <th>alcohol</th>\n",
       "    </tr>\n",
       "  </thead>\n",
       "  <tbody>\n",
       "    <tr>\n",
       "      <th>count</th>\n",
       "      <td>1599.000000</td>\n",
       "      <td>1599.000000</td>\n",
       "      <td>1599.000000</td>\n",
       "      <td>1599.000000</td>\n",
       "      <td>1599.000000</td>\n",
       "      <td>1599.000000</td>\n",
       "      <td>1599.000000</td>\n",
       "      <td>1599.000000</td>\n",
       "      <td>1599.000000</td>\n",
       "      <td>1599.000000</td>\n",
       "      <td>1599.000000</td>\n",
       "    </tr>\n",
       "    <tr>\n",
       "      <th>mean</th>\n",
       "      <td>8.319637</td>\n",
       "      <td>0.527821</td>\n",
       "      <td>0.270976</td>\n",
       "      <td>2.538806</td>\n",
       "      <td>0.087467</td>\n",
       "      <td>15.874922</td>\n",
       "      <td>46.467792</td>\n",
       "      <td>0.996747</td>\n",
       "      <td>3.311113</td>\n",
       "      <td>0.658149</td>\n",
       "      <td>10.422983</td>\n",
       "    </tr>\n",
       "    <tr>\n",
       "      <th>std</th>\n",
       "      <td>1.741096</td>\n",
       "      <td>0.179060</td>\n",
       "      <td>0.194801</td>\n",
       "      <td>1.409928</td>\n",
       "      <td>0.047065</td>\n",
       "      <td>10.460157</td>\n",
       "      <td>32.895324</td>\n",
       "      <td>0.001887</td>\n",
       "      <td>0.154386</td>\n",
       "      <td>0.169507</td>\n",
       "      <td>1.065668</td>\n",
       "    </tr>\n",
       "    <tr>\n",
       "      <th>min</th>\n",
       "      <td>4.600000</td>\n",
       "      <td>0.120000</td>\n",
       "      <td>0.000000</td>\n",
       "      <td>0.900000</td>\n",
       "      <td>0.012000</td>\n",
       "      <td>1.000000</td>\n",
       "      <td>6.000000</td>\n",
       "      <td>0.990070</td>\n",
       "      <td>2.740000</td>\n",
       "      <td>0.330000</td>\n",
       "      <td>8.400000</td>\n",
       "    </tr>\n",
       "    <tr>\n",
       "      <th>25%</th>\n",
       "      <td>7.100000</td>\n",
       "      <td>0.390000</td>\n",
       "      <td>0.090000</td>\n",
       "      <td>1.900000</td>\n",
       "      <td>0.070000</td>\n",
       "      <td>7.000000</td>\n",
       "      <td>22.000000</td>\n",
       "      <td>0.995600</td>\n",
       "      <td>3.210000</td>\n",
       "      <td>0.550000</td>\n",
       "      <td>9.500000</td>\n",
       "    </tr>\n",
       "    <tr>\n",
       "      <th>50%</th>\n",
       "      <td>7.900000</td>\n",
       "      <td>0.520000</td>\n",
       "      <td>0.260000</td>\n",
       "      <td>2.200000</td>\n",
       "      <td>0.079000</td>\n",
       "      <td>14.000000</td>\n",
       "      <td>38.000000</td>\n",
       "      <td>0.996750</td>\n",
       "      <td>3.310000</td>\n",
       "      <td>0.620000</td>\n",
       "      <td>10.200000</td>\n",
       "    </tr>\n",
       "    <tr>\n",
       "      <th>75%</th>\n",
       "      <td>9.200000</td>\n",
       "      <td>0.640000</td>\n",
       "      <td>0.420000</td>\n",
       "      <td>2.600000</td>\n",
       "      <td>0.090000</td>\n",
       "      <td>21.000000</td>\n",
       "      <td>62.000000</td>\n",
       "      <td>0.997835</td>\n",
       "      <td>3.400000</td>\n",
       "      <td>0.730000</td>\n",
       "      <td>11.100000</td>\n",
       "    </tr>\n",
       "    <tr>\n",
       "      <th>max</th>\n",
       "      <td>15.900000</td>\n",
       "      <td>1.580000</td>\n",
       "      <td>1.000000</td>\n",
       "      <td>15.500000</td>\n",
       "      <td>0.611000</td>\n",
       "      <td>72.000000</td>\n",
       "      <td>289.000000</td>\n",
       "      <td>1.003690</td>\n",
       "      <td>4.010000</td>\n",
       "      <td>2.000000</td>\n",
       "      <td>14.900000</td>\n",
       "    </tr>\n",
       "  </tbody>\n",
       "</table>\n",
       "</div>"
      ],
      "text/plain": [
       "       fixed acidity  volatile acidity  citric acid  residual sugar  \\\n",
       "count    1599.000000       1599.000000  1599.000000     1599.000000   \n",
       "mean        8.319637          0.527821     0.270976        2.538806   \n",
       "std         1.741096          0.179060     0.194801        1.409928   \n",
       "min         4.600000          0.120000     0.000000        0.900000   \n",
       "25%         7.100000          0.390000     0.090000        1.900000   \n",
       "50%         7.900000          0.520000     0.260000        2.200000   \n",
       "75%         9.200000          0.640000     0.420000        2.600000   \n",
       "max        15.900000          1.580000     1.000000       15.500000   \n",
       "\n",
       "         chlorides  free sulfur dioxide  total sulfur dioxide      density  \\\n",
       "count  1599.000000          1599.000000           1599.000000  1599.000000   \n",
       "mean      0.087467            15.874922             46.467792     0.996747   \n",
       "std       0.047065            10.460157             32.895324     0.001887   \n",
       "min       0.012000             1.000000              6.000000     0.990070   \n",
       "25%       0.070000             7.000000             22.000000     0.995600   \n",
       "50%       0.079000            14.000000             38.000000     0.996750   \n",
       "75%       0.090000            21.000000             62.000000     0.997835   \n",
       "max       0.611000            72.000000            289.000000     1.003690   \n",
       "\n",
       "                pH    sulphates      alcohol  \n",
       "count  1599.000000  1599.000000  1599.000000  \n",
       "mean      3.311113     0.658149    10.422983  \n",
       "std       0.154386     0.169507     1.065668  \n",
       "min       2.740000     0.330000     8.400000  \n",
       "25%       3.210000     0.550000     9.500000  \n",
       "50%       3.310000     0.620000    10.200000  \n",
       "75%       3.400000     0.730000    11.100000  \n",
       "max       4.010000     2.000000    14.900000  "
      ]
     },
     "execution_count": 7,
     "metadata": {},
     "output_type": "execute_result"
    }
   ],
   "source": [
    "X.describe()"
   ]
  },
  {
   "cell_type": "code",
   "execution_count": 8,
   "id": "27bf947d",
   "metadata": {
    "execution": {
     "iopub.execute_input": "2024-05-07T19:00:13.023876Z",
     "iopub.status.busy": "2024-05-07T19:00:13.022248Z",
     "iopub.status.idle": "2024-05-07T19:00:13.089541Z",
     "shell.execute_reply": "2024-05-07T19:00:13.088237Z"
    },
    "papermill": {
     "duration": 0.090577,
     "end_time": "2024-05-07T19:00:13.092274",
     "exception": false,
     "start_time": "2024-05-07T19:00:13.001697",
     "status": "completed"
    },
    "tags": []
   },
   "outputs": [
    {
     "data": {
      "text/html": [
       "<div>\n",
       "<style scoped>\n",
       "    .dataframe tbody tr th:only-of-type {\n",
       "        vertical-align: middle;\n",
       "    }\n",
       "\n",
       "    .dataframe tbody tr th {\n",
       "        vertical-align: top;\n",
       "    }\n",
       "\n",
       "    .dataframe thead th {\n",
       "        text-align: right;\n",
       "    }\n",
       "</style>\n",
       "<table border=\"1\" class=\"dataframe\">\n",
       "  <thead>\n",
       "    <tr style=\"text-align: right;\">\n",
       "      <th></th>\n",
       "      <th>fixed acidity</th>\n",
       "      <th>volatile acidity</th>\n",
       "      <th>citric acid</th>\n",
       "      <th>residual sugar</th>\n",
       "      <th>chlorides</th>\n",
       "      <th>free sulfur dioxide</th>\n",
       "      <th>total sulfur dioxide</th>\n",
       "      <th>density</th>\n",
       "      <th>pH</th>\n",
       "      <th>sulphates</th>\n",
       "      <th>alcohol</th>\n",
       "    </tr>\n",
       "  </thead>\n",
       "  <tbody>\n",
       "    <tr>\n",
       "      <th>count</th>\n",
       "      <td>1599.000000</td>\n",
       "      <td>1599.000000</td>\n",
       "      <td>1599.000000</td>\n",
       "      <td>1599.000000</td>\n",
       "      <td>1599.000000</td>\n",
       "      <td>1599.000000</td>\n",
       "      <td>1599.000000</td>\n",
       "      <td>1599.000000</td>\n",
       "      <td>1599.000000</td>\n",
       "      <td>1599.000000</td>\n",
       "      <td>1599.000000</td>\n",
       "    </tr>\n",
       "    <tr>\n",
       "      <th>mean</th>\n",
       "      <td>0.199827</td>\n",
       "      <td>0.031282</td>\n",
       "      <td>0.033259</td>\n",
       "      <td>0.484008</td>\n",
       "      <td>0.423327</td>\n",
       "      <td>0.133923</td>\n",
       "      <td>0.211695</td>\n",
       "      <td>-0.001486</td>\n",
       "      <td>0.005859</td>\n",
       "      <td>0.211938</td>\n",
       "      <td>0.139364</td>\n",
       "    </tr>\n",
       "    <tr>\n",
       "      <th>std</th>\n",
       "      <td>0.829093</td>\n",
       "      <td>0.716239</td>\n",
       "      <td>0.590306</td>\n",
       "      <td>2.014183</td>\n",
       "      <td>2.353265</td>\n",
       "      <td>0.747154</td>\n",
       "      <td>0.822383</td>\n",
       "      <td>0.844445</td>\n",
       "      <td>0.812560</td>\n",
       "      <td>0.941705</td>\n",
       "      <td>0.666042</td>\n",
       "    </tr>\n",
       "    <tr>\n",
       "      <th>min</th>\n",
       "      <td>-1.571429</td>\n",
       "      <td>-1.600000</td>\n",
       "      <td>-0.787879</td>\n",
       "      <td>-1.857143</td>\n",
       "      <td>-3.350000</td>\n",
       "      <td>-0.928571</td>\n",
       "      <td>-0.800000</td>\n",
       "      <td>-2.988814</td>\n",
       "      <td>-3.000000</td>\n",
       "      <td>-1.611111</td>\n",
       "      <td>-1.125000</td>\n",
       "    </tr>\n",
       "    <tr>\n",
       "      <th>25%</th>\n",
       "      <td>-0.380952</td>\n",
       "      <td>-0.520000</td>\n",
       "      <td>-0.515152</td>\n",
       "      <td>-0.428571</td>\n",
       "      <td>-0.450000</td>\n",
       "      <td>-0.500000</td>\n",
       "      <td>-0.400000</td>\n",
       "      <td>-0.514541</td>\n",
       "      <td>-0.526316</td>\n",
       "      <td>-0.388889</td>\n",
       "      <td>-0.437500</td>\n",
       "    </tr>\n",
       "    <tr>\n",
       "      <th>50%</th>\n",
       "      <td>0.000000</td>\n",
       "      <td>0.000000</td>\n",
       "      <td>0.000000</td>\n",
       "      <td>0.000000</td>\n",
       "      <td>0.000000</td>\n",
       "      <td>0.000000</td>\n",
       "      <td>0.000000</td>\n",
       "      <td>0.000000</td>\n",
       "      <td>0.000000</td>\n",
       "      <td>0.000000</td>\n",
       "      <td>0.000000</td>\n",
       "    </tr>\n",
       "    <tr>\n",
       "      <th>75%</th>\n",
       "      <td>0.619048</td>\n",
       "      <td>0.480000</td>\n",
       "      <td>0.484848</td>\n",
       "      <td>0.571429</td>\n",
       "      <td>0.550000</td>\n",
       "      <td>0.500000</td>\n",
       "      <td>0.600000</td>\n",
       "      <td>0.485459</td>\n",
       "      <td>0.473684</td>\n",
       "      <td>0.611111</td>\n",
       "      <td>0.562500</td>\n",
       "    </tr>\n",
       "    <tr>\n",
       "      <th>max</th>\n",
       "      <td>3.809524</td>\n",
       "      <td>4.240000</td>\n",
       "      <td>2.242424</td>\n",
       "      <td>19.000000</td>\n",
       "      <td>26.600000</td>\n",
       "      <td>4.142857</td>\n",
       "      <td>6.275000</td>\n",
       "      <td>3.105145</td>\n",
       "      <td>3.684211</td>\n",
       "      <td>7.666667</td>\n",
       "      <td>2.937500</td>\n",
       "    </tr>\n",
       "  </tbody>\n",
       "</table>\n",
       "</div>"
      ],
      "text/plain": [
       "       fixed acidity  volatile acidity  citric acid  residual sugar  \\\n",
       "count    1599.000000       1599.000000  1599.000000     1599.000000   \n",
       "mean        0.199827          0.031282     0.033259        0.484008   \n",
       "std         0.829093          0.716239     0.590306        2.014183   \n",
       "min        -1.571429         -1.600000    -0.787879       -1.857143   \n",
       "25%        -0.380952         -0.520000    -0.515152       -0.428571   \n",
       "50%         0.000000          0.000000     0.000000        0.000000   \n",
       "75%         0.619048          0.480000     0.484848        0.571429   \n",
       "max         3.809524          4.240000     2.242424       19.000000   \n",
       "\n",
       "         chlorides  free sulfur dioxide  total sulfur dioxide      density  \\\n",
       "count  1599.000000          1599.000000           1599.000000  1599.000000   \n",
       "mean      0.423327             0.133923              0.211695    -0.001486   \n",
       "std       2.353265             0.747154              0.822383     0.844445   \n",
       "min      -3.350000            -0.928571             -0.800000    -2.988814   \n",
       "25%      -0.450000            -0.500000             -0.400000    -0.514541   \n",
       "50%       0.000000             0.000000              0.000000     0.000000   \n",
       "75%       0.550000             0.500000              0.600000     0.485459   \n",
       "max      26.600000             4.142857              6.275000     3.105145   \n",
       "\n",
       "                pH    sulphates      alcohol  \n",
       "count  1599.000000  1599.000000  1599.000000  \n",
       "mean      0.005859     0.211938     0.139364  \n",
       "std       0.812560     0.941705     0.666042  \n",
       "min      -3.000000    -1.611111    -1.125000  \n",
       "25%      -0.526316    -0.388889    -0.437500  \n",
       "50%       0.000000     0.000000     0.000000  \n",
       "75%       0.473684     0.611111     0.562500  \n",
       "max       3.684211     7.666667     2.937500  "
      ]
     },
     "execution_count": 8,
     "metadata": {},
     "output_type": "execute_result"
    }
   ],
   "source": [
    "from sklearn.preprocessing import RobustScaler\n",
    "\n",
    "scaler = RobustScaler()\n",
    "scaled_data = scaler.fit_transform(X)\n",
    "df_scaled=pd.DataFrame(scaled_data,columns=X.columns)           \n",
    "df_scaled.describe()"
   ]
  },
  {
   "cell_type": "code",
   "execution_count": 9,
   "id": "eb08428b",
   "metadata": {
    "execution": {
     "iopub.execute_input": "2024-05-07T19:00:13.119322Z",
     "iopub.status.busy": "2024-05-07T19:00:13.118133Z",
     "iopub.status.idle": "2024-05-07T19:00:13.151551Z",
     "shell.execute_reply": "2024-05-07T19:00:13.150184Z"
    },
    "papermill": {
     "duration": 0.052431,
     "end_time": "2024-05-07T19:00:13.154950",
     "exception": false,
     "start_time": "2024-05-07T19:00:13.102519",
     "status": "completed"
    },
    "tags": []
   },
   "outputs": [
    {
     "data": {
      "text/html": [
       "<div>\n",
       "<style scoped>\n",
       "    .dataframe tbody tr th:only-of-type {\n",
       "        vertical-align: middle;\n",
       "    }\n",
       "\n",
       "    .dataframe tbody tr th {\n",
       "        vertical-align: top;\n",
       "    }\n",
       "\n",
       "    .dataframe thead th {\n",
       "        text-align: right;\n",
       "    }\n",
       "</style>\n",
       "<table border=\"1\" class=\"dataframe\">\n",
       "  <thead>\n",
       "    <tr style=\"text-align: right;\">\n",
       "      <th></th>\n",
       "      <th>fixed acidity</th>\n",
       "      <th>volatile acidity</th>\n",
       "      <th>citric acid</th>\n",
       "      <th>residual sugar</th>\n",
       "      <th>chlorides</th>\n",
       "      <th>free sulfur dioxide</th>\n",
       "      <th>total sulfur dioxide</th>\n",
       "      <th>density</th>\n",
       "      <th>pH</th>\n",
       "      <th>sulphates</th>\n",
       "      <th>alcohol</th>\n",
       "    </tr>\n",
       "  </thead>\n",
       "  <tbody>\n",
       "    <tr>\n",
       "      <th>0</th>\n",
       "      <td>-0.238095</td>\n",
       "      <td>0.72</td>\n",
       "      <td>-0.787879</td>\n",
       "      <td>-0.428571</td>\n",
       "      <td>-0.15</td>\n",
       "      <td>-0.214286</td>\n",
       "      <td>-0.100</td>\n",
       "      <td>0.469799</td>\n",
       "      <td>1.052632</td>\n",
       "      <td>-0.333333</td>\n",
       "      <td>-0.50</td>\n",
       "    </tr>\n",
       "    <tr>\n",
       "      <th>1</th>\n",
       "      <td>-0.047619</td>\n",
       "      <td>1.44</td>\n",
       "      <td>-0.787879</td>\n",
       "      <td>0.571429</td>\n",
       "      <td>0.95</td>\n",
       "      <td>0.785714</td>\n",
       "      <td>0.725</td>\n",
       "      <td>0.022371</td>\n",
       "      <td>-0.578947</td>\n",
       "      <td>0.333333</td>\n",
       "      <td>-0.25</td>\n",
       "    </tr>\n",
       "    <tr>\n",
       "      <th>2</th>\n",
       "      <td>-0.047619</td>\n",
       "      <td>0.96</td>\n",
       "      <td>-0.666667</td>\n",
       "      <td>0.142857</td>\n",
       "      <td>0.65</td>\n",
       "      <td>0.071429</td>\n",
       "      <td>0.400</td>\n",
       "      <td>0.111857</td>\n",
       "      <td>-0.263158</td>\n",
       "      <td>0.166667</td>\n",
       "      <td>-0.25</td>\n",
       "    </tr>\n",
       "    <tr>\n",
       "      <th>3</th>\n",
       "      <td>1.571429</td>\n",
       "      <td>-0.96</td>\n",
       "      <td>0.909091</td>\n",
       "      <td>-0.428571</td>\n",
       "      <td>-0.20</td>\n",
       "      <td>0.214286</td>\n",
       "      <td>0.550</td>\n",
       "      <td>0.559284</td>\n",
       "      <td>-0.789474</td>\n",
       "      <td>-0.222222</td>\n",
       "      <td>-0.25</td>\n",
       "    </tr>\n",
       "    <tr>\n",
       "      <th>4</th>\n",
       "      <td>-0.238095</td>\n",
       "      <td>0.72</td>\n",
       "      <td>-0.787879</td>\n",
       "      <td>-0.428571</td>\n",
       "      <td>-0.15</td>\n",
       "      <td>-0.214286</td>\n",
       "      <td>-0.100</td>\n",
       "      <td>0.469799</td>\n",
       "      <td>1.052632</td>\n",
       "      <td>-0.333333</td>\n",
       "      <td>-0.50</td>\n",
       "    </tr>\n",
       "  </tbody>\n",
       "</table>\n",
       "</div>"
      ],
      "text/plain": [
       "   fixed acidity  volatile acidity  citric acid  residual sugar  chlorides  \\\n",
       "0      -0.238095              0.72    -0.787879       -0.428571      -0.15   \n",
       "1      -0.047619              1.44    -0.787879        0.571429       0.95   \n",
       "2      -0.047619              0.96    -0.666667        0.142857       0.65   \n",
       "3       1.571429             -0.96     0.909091       -0.428571      -0.20   \n",
       "4      -0.238095              0.72    -0.787879       -0.428571      -0.15   \n",
       "\n",
       "   free sulfur dioxide  total sulfur dioxide   density        pH  sulphates  \\\n",
       "0            -0.214286                -0.100  0.469799  1.052632  -0.333333   \n",
       "1             0.785714                 0.725  0.022371 -0.578947   0.333333   \n",
       "2             0.071429                 0.400  0.111857 -0.263158   0.166667   \n",
       "3             0.214286                 0.550  0.559284 -0.789474  -0.222222   \n",
       "4            -0.214286                -0.100  0.469799  1.052632  -0.333333   \n",
       "\n",
       "   alcohol  \n",
       "0    -0.50  \n",
       "1    -0.25  \n",
       "2    -0.25  \n",
       "3    -0.25  \n",
       "4    -0.50  "
      ]
     },
     "execution_count": 9,
     "metadata": {},
     "output_type": "execute_result"
    }
   ],
   "source": [
    "df_scaled.head()"
   ]
  },
  {
   "cell_type": "code",
   "execution_count": 10,
   "id": "03e76480",
   "metadata": {
    "execution": {
     "iopub.execute_input": "2024-05-07T19:00:13.182051Z",
     "iopub.status.busy": "2024-05-07T19:00:13.181597Z",
     "iopub.status.idle": "2024-05-07T19:00:13.206154Z",
     "shell.execute_reply": "2024-05-07T19:00:13.204006Z"
    },
    "papermill": {
     "duration": 0.042001,
     "end_time": "2024-05-07T19:00:13.209392",
     "exception": false,
     "start_time": "2024-05-07T19:00:13.167391",
     "status": "completed"
    },
    "tags": []
   },
   "outputs": [
    {
     "data": {
      "text/plain": [
       "fixed acidity           0.124052\n",
       "volatile acidity       -0.390558\n",
       "citric acid             0.226373\n",
       "residual sugar          0.013732\n",
       "chlorides              -0.128907\n",
       "free sulfur dioxide    -0.050656\n",
       "total sulfur dioxide   -0.185100\n",
       "density                -0.174919\n",
       "pH                     -0.057731\n",
       "sulphates               0.251397\n",
       "alcohol                 0.476166\n",
       "dtype: float64"
      ]
     },
     "execution_count": 10,
     "metadata": {},
     "output_type": "execute_result"
    }
   ],
   "source": [
    "df_scaled.corrwith(y['quality'])"
   ]
  },
  {
   "cell_type": "code",
   "execution_count": 11,
   "id": "d5d206e8",
   "metadata": {
    "execution": {
     "iopub.execute_input": "2024-05-07T19:00:13.233069Z",
     "iopub.status.busy": "2024-05-07T19:00:13.232630Z",
     "iopub.status.idle": "2024-05-07T19:00:13.838550Z",
     "shell.execute_reply": "2024-05-07T19:00:13.837471Z"
    },
    "papermill": {
     "duration": 0.620328,
     "end_time": "2024-05-07T19:00:13.841264",
     "exception": false,
     "start_time": "2024-05-07T19:00:13.220936",
     "status": "completed"
    },
    "tags": []
   },
   "outputs": [],
   "source": [
    "from imblearn.over_sampling import SMOTE\n",
    "# Instantiate SMOTE with a desired sampling strategy\n",
    "smote = SMOTE(sampling_strategy=\"auto\",k_neighbors=3)  # 0.5 means equalizing the class sizes\n",
    "# Perform oversampling\n",
    "X_resampled, y_resampled = smote.fit_resample(df_scaled, y)\n"
   ]
  },
  {
   "cell_type": "code",
   "execution_count": 12,
   "id": "a4ab945b",
   "metadata": {
    "execution": {
     "iopub.execute_input": "2024-05-07T19:00:13.866803Z",
     "iopub.status.busy": "2024-05-07T19:00:13.866112Z",
     "iopub.status.idle": "2024-05-07T19:00:13.873467Z",
     "shell.execute_reply": "2024-05-07T19:00:13.872320Z"
    },
    "papermill": {
     "duration": 0.023376,
     "end_time": "2024-05-07T19:00:13.877458",
     "exception": false,
     "start_time": "2024-05-07T19:00:13.854082",
     "status": "completed"
    },
    "tags": []
   },
   "outputs": [
    {
     "data": {
      "text/plain": [
       "(4086, 11)"
      ]
     },
     "execution_count": 12,
     "metadata": {},
     "output_type": "execute_result"
    }
   ],
   "source": [
    "X_resampled.shape"
   ]
  },
  {
   "cell_type": "code",
   "execution_count": 13,
   "id": "1b38e50d",
   "metadata": {
    "execution": {
     "iopub.execute_input": "2024-05-07T19:00:13.902006Z",
     "iopub.status.busy": "2024-05-07T19:00:13.901611Z",
     "iopub.status.idle": "2024-05-07T19:00:13.909243Z",
     "shell.execute_reply": "2024-05-07T19:00:13.908189Z"
    },
    "papermill": {
     "duration": 0.023253,
     "end_time": "2024-05-07T19:00:13.911739",
     "exception": false,
     "start_time": "2024-05-07T19:00:13.888486",
     "status": "completed"
    },
    "tags": []
   },
   "outputs": [],
   "source": [
    "X_train, X_test, y_train, y_test=train_test_split(X_resampled,np.array(y_resampled).reshape(-1))"
   ]
  },
  {
   "cell_type": "code",
   "execution_count": 14,
   "id": "ad3ce382",
   "metadata": {
    "execution": {
     "iopub.execute_input": "2024-05-07T19:00:13.934483Z",
     "iopub.status.busy": "2024-05-07T19:00:13.934053Z",
     "iopub.status.idle": "2024-05-07T19:00:13.941367Z",
     "shell.execute_reply": "2024-05-07T19:00:13.939951Z"
    },
    "papermill": {
     "duration": 0.021856,
     "end_time": "2024-05-07T19:00:13.944108",
     "exception": false,
     "start_time": "2024-05-07T19:00:13.922252",
     "status": "completed"
    },
    "tags": []
   },
   "outputs": [
    {
     "data": {
      "text/plain": [
       "(3064, 11)"
      ]
     },
     "execution_count": 14,
     "metadata": {},
     "output_type": "execute_result"
    }
   ],
   "source": [
    "X_train.shape"
   ]
  },
  {
   "cell_type": "code",
   "execution_count": 15,
   "id": "5cfc1b4c",
   "metadata": {
    "execution": {
     "iopub.execute_input": "2024-05-07T19:00:13.967050Z",
     "iopub.status.busy": "2024-05-07T19:00:13.966620Z",
     "iopub.status.idle": "2024-05-07T19:00:13.981707Z",
     "shell.execute_reply": "2024-05-07T19:00:13.980576Z"
    },
    "papermill": {
     "duration": 0.030235,
     "end_time": "2024-05-07T19:00:13.985098",
     "exception": false,
     "start_time": "2024-05-07T19:00:13.954863",
     "status": "completed"
    },
    "tags": []
   },
   "outputs": [],
   "source": [
    "\n",
    "from sklearn.svm import SVC\n",
    "from sklearn.ensemble import RandomForestClassifier\n",
    "from sklearn.tree import DecisionTreeClassifier\n",
    "from sklearn import tree\n",
    "from sklearn.neural_network import MLPClassifier"
   ]
  },
  {
   "cell_type": "code",
   "execution_count": 16,
   "id": "2bcbfb3e",
   "metadata": {
    "execution": {
     "iopub.execute_input": "2024-05-07T19:00:14.008847Z",
     "iopub.status.busy": "2024-05-07T19:00:14.008058Z",
     "iopub.status.idle": "2024-05-07T19:00:14.012541Z",
     "shell.execute_reply": "2024-05-07T19:00:14.011732Z"
    },
    "papermill": {
     "duration": 0.019418,
     "end_time": "2024-05-07T19:00:14.014937",
     "exception": false,
     "start_time": "2024-05-07T19:00:13.995519",
     "status": "completed"
    },
    "tags": []
   },
   "outputs": [],
   "source": [
    "mlp=MLPClassifier(early_stopping=True,hidden_layer_sizes=(64,32),max_iter=10000)\n",
    "\n"
   ]
  },
  {
   "cell_type": "code",
   "execution_count": 17,
   "id": "84d780d2",
   "metadata": {
    "execution": {
     "iopub.execute_input": "2024-05-07T19:00:14.039843Z",
     "iopub.status.busy": "2024-05-07T19:00:14.038511Z",
     "iopub.status.idle": "2024-05-07T19:00:14.050115Z",
     "shell.execute_reply": "2024-05-07T19:00:14.048508Z"
    },
    "papermill": {
     "duration": 0.027371,
     "end_time": "2024-05-07T19:00:14.052878",
     "exception": false,
     "start_time": "2024-05-07T19:00:14.025507",
     "status": "completed"
    },
    "tags": []
   },
   "outputs": [
    {
     "data": {
      "text/plain": [
       "quality\n",
       "3          681\n",
       "4          681\n",
       "5          681\n",
       "6          681\n",
       "7          681\n",
       "8          681\n",
       "Name: count, dtype: int64"
      ]
     },
     "execution_count": 17,
     "metadata": {},
     "output_type": "execute_result"
    }
   ],
   "source": [
    "y_resampled.value_counts()"
   ]
  },
  {
   "cell_type": "code",
   "execution_count": 18,
   "id": "6f73e33e",
   "metadata": {
    "execution": {
     "iopub.execute_input": "2024-05-07T19:00:14.077622Z",
     "iopub.status.busy": "2024-05-07T19:00:14.077190Z",
     "iopub.status.idle": "2024-05-07T19:00:16.818159Z",
     "shell.execute_reply": "2024-05-07T19:00:16.816547Z"
    },
    "papermill": {
     "duration": 2.758681,
     "end_time": "2024-05-07T19:00:16.822978",
     "exception": false,
     "start_time": "2024-05-07T19:00:14.064297",
     "status": "completed"
    },
    "tags": []
   },
   "outputs": [
    {
     "name": "stdout",
     "output_type": "stream",
     "text": [
      "0.8211488250652742\n",
      "              precision    recall  f1-score   support\n",
      "\n",
      "           3       0.96      1.00      0.98       154\n",
      "           4       0.77      0.96      0.85       164\n",
      "           5       0.69      0.62      0.65       178\n",
      "           6       0.52      0.47      0.50       167\n",
      "           7       0.80      0.67      0.73       181\n",
      "           8       0.93      1.00      0.96       178\n",
      "\n",
      "    accuracy                           0.78      1022\n",
      "   macro avg       0.78      0.79      0.78      1022\n",
      "weighted avg       0.78      0.78      0.78      1022\n",
      "\n"
     ]
    }
   ],
   "source": [
    "mlp.fit(X_train,y_train)\n",
    "print(mlp.score(X_train,y_train))\n",
    "y_pred=mlp.predict(X_test)\n",
    "print(classification_report(y_test,y_pred))"
   ]
  },
  {
   "cell_type": "code",
   "execution_count": 19,
   "id": "4b28f190",
   "metadata": {
    "execution": {
     "iopub.execute_input": "2024-05-07T19:00:16.871465Z",
     "iopub.status.busy": "2024-05-07T19:00:16.870746Z",
     "iopub.status.idle": "2024-05-07T19:01:44.538615Z",
     "shell.execute_reply": "2024-05-07T19:01:44.537171Z"
    },
    "papermill": {
     "duration": 87.703967,
     "end_time": "2024-05-07T19:01:44.550027",
     "exception": false,
     "start_time": "2024-05-07T19:00:16.846060",
     "status": "completed"
    },
    "tags": []
   },
   "outputs": [
    {
     "name": "stdout",
     "output_type": "stream",
     "text": [
      "Tuned hyper parameters :  {'C': 10, 'gamma': 1}\n",
      "accuracy :  0.879558663856422\n"
     ]
    }
   ],
   "source": [
    "parameters = {\n",
    "    'C' : [0.001, 0.1,1,10],\n",
    "    'gamma' : [0.001, 0.1,1,10],\n",
    "}\n",
    "\n",
    "\n",
    "\n",
    "svc = SVC()\n",
    "svc_cv = GridSearchCV(estimator=svc, param_grid=parameters, cv=10).fit(X_train, y_train)\n",
    "\n",
    "\n",
    "\n",
    "print('Tuned hyper parameters : ', svc_cv.best_params_)\n",
    "print('accuracy : ', svc_cv.best_score_)"
   ]
  }
 ],
 "metadata": {
  "kaggle": {
   "accelerator": "none",
   "dataSources": [
    {
     "datasetId": 4458,
     "sourceId": 8204,
     "sourceType": "datasetVersion"
    }
   ],
   "dockerImageVersionId": 30698,
   "isGpuEnabled": false,
   "isInternetEnabled": true,
   "language": "python",
   "sourceType": "notebook"
  },
  "kernelspec": {
   "display_name": "Python 3",
   "language": "python",
   "name": "python3"
  },
  "language_info": {
   "codemirror_mode": {
    "name": "ipython",
    "version": 3
   },
   "file_extension": ".py",
   "mimetype": "text/x-python",
   "name": "python",
   "nbconvert_exporter": "python",
   "pygments_lexer": "ipython3",
   "version": "3.10.13"
  },
  "papermill": {
   "default_parameters": {},
   "duration": 100.91087,
   "end_time": "2024-05-07T19:01:45.284878",
   "environment_variables": {},
   "exception": null,
   "input_path": "__notebook__.ipynb",
   "output_path": "__notebook__.ipynb",
   "parameters": {},
   "start_time": "2024-05-07T19:00:04.374008",
   "version": "2.5.0"
  }
 },
 "nbformat": 4,
 "nbformat_minor": 5
}
